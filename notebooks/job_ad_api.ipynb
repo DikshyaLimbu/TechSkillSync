{
 "cells": [
  {
   "cell_type": "code",
   "execution_count": 7,
   "metadata": {},
   "outputs": [],
   "source": [
    "import sys, os\n",
    "sys.path.append(os.path.abspath('../backend/app'))\n",
    "\n",
    "from adzuna_api import search_adzuna_jobs\n",
    "from job_ad_api import match_jobs_by_skills\n"
   ]
  },
  {
   "cell_type": "code",
   "execution_count": 8,
   "metadata": {},
   "outputs": [
    {
     "name": "stderr",
     "output_type": "stream",
     "text": [
      "/Users/kunalgurung/TechSkillSync/.venv/lib/python3.9/site-packages/tqdm/auto.py:21: TqdmWarning: IProgress not found. Please update jupyter and ipywidgets. See https://ipywidgets.readthedocs.io/en/stable/user_install.html\n",
      "  from .autonotebook import tqdm as notebook_tqdm\n"
     ]
    }
   ],
   "source": [
    "# 📦 Imports\n",
    "import threading, time\n",
    "from tqdm.auto import tqdm\n",
    "import sys, os\n",
    "sys.path.append(os.path.abspath('../backend/app'))\n",
    "\n",
    "from adzuna_api import search_adzuna_jobs\n",
    "from job_ad_api import match_jobs_by_skills\n",
    "import pandas as pd\n"
   ]
  },
  {
   "cell_type": "code",
   "execution_count": 9,
   "metadata": {},
   "outputs": [
    {
     "data": {
      "text/plain": [
       "[<_MainThread(MainThread, started 8463847232)>,\n",
       " <Thread(IOPub, started daemon 6141751296)>,\n",
       " <Heartbeat(Heartbeat, started daemon 6158577664)>,\n",
       " <Thread(Thread-1, started daemon 6176550912)>,\n",
       " <Thread(Thread-2, started daemon 6193377280)>,\n",
       " <ControlThread(Control, started daemon 6210203648)>,\n",
       " <HistorySavingThread(IPythonHistorySavingThread, started 6227030016)>,\n",
       " <TMonitor(Thread-5, started daemon 6244429824)>]"
      ]
     },
     "execution_count": 9,
     "metadata": {},
     "output_type": "execute_result"
    }
   ],
   "source": [
    "import threading\n",
    "threading.enumerate()\n"
   ]
  },
  {
   "cell_type": "code",
   "execution_count": 10,
   "metadata": {},
   "outputs": [],
   "source": [
    "keyword = input(\"Enter job keyword (e.g., data analyst): \")\n",
    "location = input(\"Enter job location (e.g., Sydney): \")\n",
    "skills_input = input(\"Enter your skills (comma-separated, e.g., Python,SQL,Excel): \")\n",
    "user_skills = [skill.strip() for skill in skills_input.split(\",\") if skill.strip()]\n"
   ]
  },
  {
   "cell_type": "code",
   "execution_count": 11,
   "metadata": {},
   "outputs": [
    {
     "name": "stdout",
     "output_type": "stream",
     "text": [
      "✅ Done fetching 10 jobs!     \n"
     ]
    }
   ],
   "source": [
    "# Spinner animation\n",
    "def loading_dots(stop_event):\n",
    "    while not stop_event.is_set():\n",
    "        for dots in [\".  \", \".. \", \"...\"]:\n",
    "            print(f\"\\r🔄 Fetching jobs{dots}\", end=\"\", flush=True)\n",
    "            time.sleep(0.5)\n",
    "\n",
    "stop_event = threading.Event()\n",
    "spinner_thread = threading.Thread(target=loading_dots, args=(stop_event,))\n",
    "spinner_thread.start()\n",
    "\n",
    "# Actual fetch\n",
    "jobs = search_adzuna_jobs(keyword, location)\n",
    "\n",
    "stop_event.set()\n",
    "spinner_thread.join()\n",
    "print(f\"\\r✅ Done fetching {len(jobs)} jobs!     \")\n"
   ]
  },
  {
   "cell_type": "code",
   "execution_count": 12,
   "metadata": {},
   "outputs": [
    {
     "name": "stderr",
     "output_type": "stream",
     "text": [
      "🔍 Matching skills: 100%|██████████| 10/10 [00:00<00:00, 64133.09it/s]\n"
     ]
    }
   ],
   "source": [
    "# Custom version of match_jobs_by_skills with progress bar\n",
    "def match_with_progress(jobs, skills):\n",
    "    matched_jobs = []\n",
    "    for job in tqdm(jobs, desc=\"🔍 Matching skills\"):\n",
    "        desc = job.get(\"description\", \"\")\n",
    "        matched = [s for s in skills if s.lower() in desc.lower()]\n",
    "        score = len(matched)\n",
    "        matched_jobs.append({\n",
    "            **job,\n",
    "            \"matched_skills\": matched,\n",
    "            \"match_score\": score\n",
    "        })\n",
    "    matched_jobs.sort(key=lambda x: x[\"match_score\"], reverse=True)\n",
    "    return matched_jobs\n",
    "\n",
    "# Match and show\n",
    "matched = match_with_progress(jobs, user_skills)\n"
   ]
  },
  {
   "cell_type": "code",
   "execution_count": 13,
   "metadata": {},
   "outputs": [
    {
     "data": {
      "text/html": [
       "<div>\n",
       "<style scoped>\n",
       "    .dataframe tbody tr th:only-of-type {\n",
       "        vertical-align: middle;\n",
       "    }\n",
       "\n",
       "    .dataframe tbody tr th {\n",
       "        vertical-align: top;\n",
       "    }\n",
       "\n",
       "    .dataframe thead th {\n",
       "        text-align: right;\n",
       "    }\n",
       "</style>\n",
       "<table border=\"1\" class=\"dataframe\">\n",
       "  <thead>\n",
       "    <tr style=\"text-align: right;\">\n",
       "      <th></th>\n",
       "      <th>title</th>\n",
       "      <th>company</th>\n",
       "      <th>location</th>\n",
       "      <th>match_score</th>\n",
       "      <th>matched_skills</th>\n",
       "      <th>url</th>\n",
       "    </tr>\n",
       "  </thead>\n",
       "  <tbody>\n",
       "    <tr>\n",
       "      <th>0</th>\n",
       "      <td>Data Analyst</td>\n",
       "      <td>Pyramid Global Technologies</td>\n",
       "      <td>The Rocks, Sydney</td>\n",
       "      <td>1</td>\n",
       "      <td>[sql]</td>\n",
       "      <td>https://www.adzuna.com.au/land/ad/5114848179?s...</td>\n",
       "    </tr>\n",
       "    <tr>\n",
       "      <th>1</th>\n",
       "      <td>Data Analyst</td>\n",
       "      <td>Luxury Escapes</td>\n",
       "      <td>The Rocks, Sydney</td>\n",
       "      <td>0</td>\n",
       "      <td>[]</td>\n",
       "      <td>https://www.adzuna.com.au/land/ad/5139802599?s...</td>\n",
       "    </tr>\n",
       "    <tr>\n",
       "      <th>2</th>\n",
       "      <td>Data Analyst</td>\n",
       "      <td>Investa</td>\n",
       "      <td>The Rocks, Sydney</td>\n",
       "      <td>0</td>\n",
       "      <td>[]</td>\n",
       "      <td>https://www.adzuna.com.au/land/ad/5111306962?s...</td>\n",
       "    </tr>\n",
       "    <tr>\n",
       "      <th>3</th>\n",
       "      <td>Data Analyst</td>\n",
       "      <td>OMD Australia</td>\n",
       "      <td>The Rocks, Sydney</td>\n",
       "      <td>0</td>\n",
       "      <td>[]</td>\n",
       "      <td>https://www.adzuna.com.au/land/ad/5134493751?s...</td>\n",
       "    </tr>\n",
       "    <tr>\n",
       "      <th>4</th>\n",
       "      <td>Data Analyst</td>\n",
       "      <td>Luxury Escapes</td>\n",
       "      <td>The Rocks, Sydney</td>\n",
       "      <td>0</td>\n",
       "      <td>[]</td>\n",
       "      <td>https://www.adzuna.com.au/land/ad/5114871500?s...</td>\n",
       "    </tr>\n",
       "    <tr>\n",
       "      <th>5</th>\n",
       "      <td>Data Analyst</td>\n",
       "      <td>Westpac</td>\n",
       "      <td>The Rocks, Sydney</td>\n",
       "      <td>0</td>\n",
       "      <td>[]</td>\n",
       "      <td>https://www.adzuna.com.au/land/ad/5138474598?s...</td>\n",
       "    </tr>\n",
       "    <tr>\n",
       "      <th>6</th>\n",
       "      <td>Data Analyst</td>\n",
       "      <td>HAYS</td>\n",
       "      <td>Sydney CBD, Sydney</td>\n",
       "      <td>0</td>\n",
       "      <td>[]</td>\n",
       "      <td>https://www.adzuna.com.au/land/ad/5141706818?s...</td>\n",
       "    </tr>\n",
       "    <tr>\n",
       "      <th>7</th>\n",
       "      <td>Data Analyst</td>\n",
       "      <td>Ubank</td>\n",
       "      <td>The Rocks, Sydney</td>\n",
       "      <td>0</td>\n",
       "      <td>[]</td>\n",
       "      <td>https://www.adzuna.com.au/land/ad/5140041628?s...</td>\n",
       "    </tr>\n",
       "    <tr>\n",
       "      <th>8</th>\n",
       "      <td>Data Analyst</td>\n",
       "      <td>Endeavour Group</td>\n",
       "      <td>Surry Hills, Sydney</td>\n",
       "      <td>0</td>\n",
       "      <td>[]</td>\n",
       "      <td>https://www.adzuna.com.au/land/ad/5135186168?s...</td>\n",
       "    </tr>\n",
       "    <tr>\n",
       "      <th>9</th>\n",
       "      <td>Data Analyst</td>\n",
       "      <td>Macquarie</td>\n",
       "      <td>The Rocks, Sydney</td>\n",
       "      <td>0</td>\n",
       "      <td>[]</td>\n",
       "      <td>https://www.adzuna.com.au/land/ad/5133176420?s...</td>\n",
       "    </tr>\n",
       "  </tbody>\n",
       "</table>\n",
       "</div>"
      ],
      "text/plain": [
       "          title                      company             location  \\\n",
       "0  Data Analyst  Pyramid Global Technologies    The Rocks, Sydney   \n",
       "1  Data Analyst               Luxury Escapes    The Rocks, Sydney   \n",
       "2  Data Analyst                      Investa    The Rocks, Sydney   \n",
       "3  Data Analyst                OMD Australia    The Rocks, Sydney   \n",
       "4  Data Analyst               Luxury Escapes    The Rocks, Sydney   \n",
       "5  Data Analyst                      Westpac    The Rocks, Sydney   \n",
       "6  Data Analyst                         HAYS   Sydney CBD, Sydney   \n",
       "7  Data Analyst                        Ubank    The Rocks, Sydney   \n",
       "8  Data Analyst              Endeavour Group  Surry Hills, Sydney   \n",
       "9  Data Analyst                    Macquarie    The Rocks, Sydney   \n",
       "\n",
       "   match_score matched_skills  \\\n",
       "0            1          [sql]   \n",
       "1            0             []   \n",
       "2            0             []   \n",
       "3            0             []   \n",
       "4            0             []   \n",
       "5            0             []   \n",
       "6            0             []   \n",
       "7            0             []   \n",
       "8            0             []   \n",
       "9            0             []   \n",
       "\n",
       "                                                 url  \n",
       "0  https://www.adzuna.com.au/land/ad/5114848179?s...  \n",
       "1  https://www.adzuna.com.au/land/ad/5139802599?s...  \n",
       "2  https://www.adzuna.com.au/land/ad/5111306962?s...  \n",
       "3  https://www.adzuna.com.au/land/ad/5134493751?s...  \n",
       "4  https://www.adzuna.com.au/land/ad/5114871500?s...  \n",
       "5  https://www.adzuna.com.au/land/ad/5138474598?s...  \n",
       "6  https://www.adzuna.com.au/land/ad/5141706818?s...  \n",
       "7  https://www.adzuna.com.au/land/ad/5140041628?s...  \n",
       "8  https://www.adzuna.com.au/land/ad/5135186168?s...  \n",
       "9  https://www.adzuna.com.au/land/ad/5133176420?s...  "
      ]
     },
     "execution_count": 13,
     "metadata": {},
     "output_type": "execute_result"
    }
   ],
   "source": [
    "df = pd.DataFrame(matched)\n",
    "df[[\"title\", \"company\", \"location\", \"match_score\", \"matched_skills\", \"url\"]]\n"
   ]
  }
 ],
 "metadata": {
  "kernelspec": {
   "display_name": ".venv",
   "language": "python",
   "name": "python3"
  },
  "language_info": {
   "codemirror_mode": {
    "name": "ipython",
    "version": 3
   },
   "file_extension": ".py",
   "mimetype": "text/x-python",
   "name": "python",
   "nbconvert_exporter": "python",
   "pygments_lexer": "ipython3",
   "version": "3.9.6"
  }
 },
 "nbformat": 4,
 "nbformat_minor": 2
}
