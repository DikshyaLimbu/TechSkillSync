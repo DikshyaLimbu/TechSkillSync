{
 "cells": [
  {
   "cell_type": "code",
   "execution_count": null,
   "metadata": {},
   "outputs": [],
   "source": [
    "from fastapi import FastAPI, Query\n",
    "from typing import List\n",
    "from adzuna_api import search_adzuna_jobs\n",
    "from job_ad_api import match_jobs_by_skills\n",
    "\n",
    "app = FastAPI()\n",
    "\n",
    "@app.get(\"/adzuna_jobs\")\n",
    "def get_jobs(\n",
    "    keyword: str = Query(...),\n",
    "    location: str = Query(\"Sydney\"),\n",
    "    skills: List[str] = Query([])\n",
    "):\n",
    "    # 1. Fetch from Adzuna\n",
    "    jobs = search_adzuna_jobs(keyword, location)\n",
    "\n",
    "    # 2. Skill match (optional)\n",
    "    matched = match_jobs_by_skills(jobs, skills)\n",
    "\n",
    "    return {\"results\": matched}\n"
   ]
  }
 ],
 "metadata": {
  "kernelspec": {
   "display_name": "Python 3",
   "language": "python",
   "name": "python3"
  },
  "language_info": {
   "codemirror_mode": {
    "name": "ipython",
    "version": 3
   },
   "file_extension": ".py",
   "mimetype": "text/x-python",
   "name": "python",
   "nbconvert_exporter": "python",
   "pygments_lexer": "ipython3",
   "version": "3.10.4"
  }
 },
 "nbformat": 4,
 "nbformat_minor": 2
}
